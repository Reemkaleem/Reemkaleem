{
  "nbformat": 4,
  "nbformat_minor": 0,
  "metadata": {
    "colab": {
      "provenance": [],
      "authorship_tag": "ABX9TyOAZkYFQrL7NLcI3OIXkoDk",
      "include_colab_link": true
    },
    "kernelspec": {
      "name": "python3",
      "display_name": "Python 3"
    },
    "language_info": {
      "name": "python"
    }
  },
  "cells": [
    {
      "cell_type": "markdown",
      "metadata": {
        "id": "view-in-github",
        "colab_type": "text"
      },
      "source": [
        "<a href=\"https://colab.research.google.com/github/Reemkaleem/Reemkaleem/blob/main/Recursion.ipynb\" target=\"_parent\"><img src=\"https://colab.research.google.com/assets/colab-badge.svg\" alt=\"Open In Colab\"/></a>"
      ]
    },
    {
      "cell_type": "code",
      "execution_count": 7,
      "metadata": {
        "colab": {
          "base_uri": "https://localhost:8080/"
        },
        "id": "1UOCi3NTmtlt",
        "outputId": "6031e7a9-3a5e-45c1-dd93-1624166adafa"
      },
      "outputs": [
        {
          "output_type": "stream",
          "name": "stdout",
          "text": [
            "3\n",
            "7\n",
            "15\n",
            "31\n"
          ]
        }
      ],
      "source": [
        "#Tower of Hanoi\n",
        "def moves(s,d,a,n):\n",
        "  #base condition\n",
        "  if(n==1):\n",
        "    return 1\n",
        "\n",
        "  return moves(s,a,d,n-1) + 1 + moves(a,d,s,n-1)\n",
        "  # steps_to_move_n_minus_1_s_to_a = moves(s,a,d,n-1)\n",
        "  # steps_to_move_1_coin_s_to_d =1\n",
        "  # steps_to_move_n_minus_1_a_to_d = moves(a,d,s,n-1)\n",
        "  # return steps_to_move_n_minus_1_s_to_a + steps_to_move_1_coin_s_to_d + steps_to_move_n_minus_1_a_to_d\n",
        "\n",
        "print(moves('s','d','a',2))\n",
        "print(moves('s','d','a',3))\n",
        "print(moves('s','d','a',4))\n",
        "print(moves('s','d','a',5))"
      ]
    },
    {
      "cell_type": "code",
      "source": [
        "def subset_sum(arr,target,index=0):\n",
        "  if target ==0:\n",
        "    return True\n",
        "  if index == len(arr):\n",
        "    return False\n",
        "  if subset_sum(arr,target-arr[index],index=index+1):\n",
        "    return True\n",
        "  return subset_sum(arr,target,index=index+1)\n",
        "\n",
        "subset_sum([3,45,2,1],6)"
      ],
      "metadata": {
        "colab": {
          "base_uri": "https://localhost:8080/"
        },
        "id": "P8YdxzSV3_RZ",
        "outputId": "b675b6f9-2435-4588-ae87-cd09a9c1ee6d"
      },
      "execution_count": 14,
      "outputs": [
        {
          "output_type": "execute_result",
          "data": {
            "text/plain": [
              "True"
            ]
          },
          "metadata": {},
          "execution_count": 14
        }
      ]
    },
    {
      "cell_type": "code",
      "source": [
        "def subset_sum(arr,target,index=0,arr1=None):\n",
        "  if arr1 is None:\n",
        "    arr1 =[]\n",
        "\n",
        "  if target ==0:\n",
        "    print(arr1)\n",
        "    return True\n",
        "\n",
        "  if index == len(arr):\n",
        "    return False\n",
        "  arr1.append(arr[index])\n",
        "\n",
        "  if subset_sum(arr,target-arr[index],index+1,arr1):\n",
        "    return True\n",
        "  arr1.pop()\n",
        "\n",
        "  return subset_sum(arr,target,index+1,arr1)\n",
        "\n",
        "subset_sum([3,45,2,1],6)\n"
      ],
      "metadata": {
        "colab": {
          "base_uri": "https://localhost:8080/"
        },
        "id": "ttTAPtPoCHfj",
        "outputId": "2d226ffc-affa-45c0-dff4-ff9848e983cd"
      },
      "execution_count": 23,
      "outputs": [
        {
          "output_type": "stream",
          "name": "stdout",
          "text": [
            "[3, 2, 1]\n"
          ]
        },
        {
          "output_type": "execute_result",
          "data": {
            "text/plain": [
              "True"
            ]
          },
          "metadata": {},
          "execution_count": 23
        }
      ]
    },
    {
      "cell_type": "code",
      "source": [
        "def subset_sum(arr, target, index=0, arr1=None):\n",
        "    if arr1 is None:\n",
        "        arr1 = []\n",
        "\n",
        "    if target == 0:\n",
        "        print(\"Subset that sums to target:\", arr1)\n",
        "        return True\n",
        "\n",
        "    if index == len(arr):\n",
        "        return False\n",
        "\n",
        "    # Include current element\n",
        "    arr1.append(arr[index])\n",
        "    if subset_sum(arr, target - arr[index], index + 1, arr1):  # Fixed order\n",
        "        return True\n",
        "    arr1.pop()\n",
        "\n",
        "    # Exclude current element\n",
        "    return subset_sum(arr, target, index + 1, arr1)  # Fixed order\n",
        "\n",
        "subset_sum([3, 45, 2, 1], 6)\n"
      ],
      "metadata": {
        "colab": {
          "base_uri": "https://localhost:8080/"
        },
        "id": "BAbKHDiLG06s",
        "outputId": "6b1524dc-8021-4811-a475-a2a11df01f91"
      },
      "execution_count": 21,
      "outputs": [
        {
          "output_type": "stream",
          "name": "stdout",
          "text": [
            "Subset that sums to target: [3, 2, 1]\n"
          ]
        },
        {
          "output_type": "execute_result",
          "data": {
            "text/plain": [
              "True"
            ]
          },
          "metadata": {},
          "execution_count": 21
        }
      ]
    }
  ]
}